{
  "cells": [
    {
      "cell_type": "code",
      "execution_count": 1,
      "id": "76f782a9",
      "metadata": {
        "id": "76f782a9"
      },
      "outputs": [],
      "source": [
        "#### IMPORTING LIBRARIES ####\n",
        "import numpy as np\n",
        "import pandas as pd\n",
        "import matplotlib.pyplot as plt\n",
        "from sklearn.model_selection import train_test_split\n",
        "from sklearn.linear_model import LinearRegression"
      ]
    },
    {
      "cell_type": "code",
      "execution_count": 19,
      "id": "8705342e",
      "metadata": {
        "id": "8705342e"
      },
      "outputs": [],
      "source": [
        "#### READ & IDENTIFY DATA ####\n",
        "path = \"/test.csv\"\n",
        "data = pd.read_csv(path, header=None, names=[\"x\", \"y\"])\n",
        "X=data[[\"x\"]]   # X is the input\n",
        "y=data[\"y\"]   # y is the output"
      ]
    },
    {
      "cell_type": "code",
      "execution_count": 15,
      "id": "889bcfc2",
      "metadata": {
        "scrolled": true,
        "id": "889bcfc2"
      },
      "outputs": [],
      "source": [
        "#### DATA SHOW ####\n",
        "# data.head()\n",
        "# data.describe()\n",
        "# data.info()\n",
        "# data.plot(kind='scatter', x='first', y='second', figsize=(5,5)) #first method\n",
        "# plt.scatter(data['first'],data['second']) #second method"
      ]
    },
    {
      "cell_type": "code",
      "execution_count": 29,
      "id": "893ca3d2",
      "metadata": {
        "colab": {
          "base_uri": "https://localhost:8080/",
          "height": 385
        },
        "id": "893ca3d2",
        "outputId": "edb6a412-b9ca-4d6b-8ede-bc096eeecffe"
      },
      "outputs": [
        {
          "output_type": "stream",
          "name": "stdout",
          "text": [
            "computeCost(X, y, theta) =  24.73871783029357\n"
          ]
        },
        {
          "output_type": "execute_result",
          "data": {
            "text/plain": [
              "Text(0.5, 1.0, 'Error vs. Training Epoch')"
            ]
          },
          "metadata": {},
          "execution_count": 29
        },
        {
          "output_type": "display_data",
          "data": {
            "text/plain": [
              "<Figure size 360x360 with 1 Axes>"
            ],
            "image/png": "[encoded data removed]"
          },
          "metadata": {
            "needs_background": "light"
          }
        }
      ],
      "source": [
        "#### COST FUNCTION ####\n",
        "\n",
        "# adding a new column called ones before the data\n",
        "# data.insert(0, 'Ones', 1)\n",
        "\n",
        "# separate X (training data) from y (target variable)\n",
        "cols = data.shape[1]\n",
        "X = data[['Ones','x']]  # iloc[:,0:cols-1]\n",
        "y = data.iloc[:,cols-1:cols]\n",
        "\n",
        "# convert from data frames to numpy matrices\n",
        "X = np.matrix(X.values)\n",
        "y = np.matrix(y.values)\n",
        "theta = np.matrix(np.array([0,0]))\n",
        "\n",
        "\n",
        "def computeCost(X, y, theta):\n",
        "    z = np.power(((X * theta.T) - y), 2)\n",
        "    summation=np.sum( np.power( ( (X * theta.T) - y ), 2 ) )\n",
        "    m=len(X)\n",
        "    return summation / (2 * m)\n",
        "\n",
        "print('computeCost(X, y, theta) = ' , computeCost(X, y, theta))\n"
      ]
    },
    {
      "cell_type": "code",
      "execution_count": 46,
      "id": "7e8bde97",
      "metadata": {
        "colab": {
          "base_uri": "https://localhost:8080/"
        },
        "id": "7e8bde97",
        "outputId": "e1ed621b-f7c8-49de-a30f-5d58276ce371"
      },
      "outputs": [
        {
          "output_type": "stream",
          "name": "stdout",
          "text": [
            "NEW THETA =  [[-1.37075559  0.84055919]]\n",
            "Final Cost =  3.2723135191808543\n"
          ]
        }
      ],
      "source": [
        "#### GRADIEN DESCENT ####\n",
        "def gradientDescent(X, y, theta, alpha, iters):\n",
        "    New_Theta   = np.matrix(np.zeros(theta.shape))\n",
        "    parameters  = int(theta.ravel().shape[1])\n",
        "    costs       = np.zeros(iters)\n",
        "    m           = len(X)\n",
        "    for i in range(iters):\n",
        "        error = (X * theta.T) - y\n",
        "        \n",
        "        for j in range(parameters):\n",
        "            term = np.multiply(error, X[:,j])\n",
        "            New_Theta[0,j] = theta[0,j] - ((alpha / m) * np.sum(term))\n",
        "            \n",
        "        theta    = New_Theta\n",
        "        costs[i] = computeCost(X, y, theta)\n",
        "        \n",
        "    return theta, costs\n",
        "# initialize variables for learning rate and iterations\n",
        "alpha = 0.001\n",
        "iters = 2000\n",
        "\n",
        "# perform gradient descent to \"fit\" the model parameters\n",
        "New_theta, costs = gradientDescent(X, y, theta, alpha, iters)\n",
        "\n",
        "print('NEW THETA = ' , New_theta) # final theta\n",
        "\n",
        "print('Final Cost = ' , computeCost(X, y, New_theta)) # final cost\n"
      ]
    },
    {
      "cell_type": "code",
      "source": [
        "### BEST FIT LINE ###\n",
        "feature= np.linspace(data.x.min(), data.x.max(), num=70)\n",
        "Points_Best_Fit_line = ( (New_theta[0, 0]) + (New_theta[0, 1] * feature) )#teta0+theta1*x\n",
        "\n",
        "###draw the line###\n",
        "\n",
        "fig, shape = plt.subplots(figsize=(5,5))\n",
        "shape.plot(feature, Points_Best_Fit_line, 'r', label='Prediction')\n",
        "shape.scatter(x= data.x,y= data.y, label='Traning Data')\n",
        "shape.legend(loc=4)#place of descipetion of prdect and train data\n",
        "#describ the shape\n",
        "shape.set_xlabel('Population')\n",
        "shape.set_ylabel('Profit')\n",
        "shape.set_title('Predicted Profit vs. Population Size')"
      ],
      "metadata": {
        "colab": {
          "base_uri": "https://localhost:8080/",
          "height": 367
        },
        "id": "sWliInHA9CY_",
        "outputId": "b4b26a16-cdb6-46a3-b70c-970065a48be1"
      },
      "id": "sWliInHA9CY_",
      "execution_count": 47,
      "outputs": [
        {
          "output_type": "execute_result",
          "data": {
            "text/plain": [
              "Text(0.5, 1.0, 'Predicted Profit vs. Population Size')"
            ]
          },
          "metadata": {},
          "execution_count": 47
        },
        {
          "output_type": "display_data",
          "data": {
            "text/plain": [
              "<Figure size 360x360 with 1 Axes>"
            ],
            "image/png": "[encoded data removed]"
          },
          "metadata": {
            "needs_background": "light"
          }
        }
      ]
    },
    {
      "cell_type": "code",
      "source": [
        "### draw error graph ###\n",
        "fig, ax = plt.subplots(figsize=(5,5))\n",
        "ax.plot(np.arange(iters), costs, 'r')\n",
        "ax.set_xlabel('Iterations')\n",
        "ax.set_ylabel('Cost')\n",
        "ax.set_title('Error vs. Training Epoch')\n"
      ],
      "metadata": {
        "colab": {
          "base_uri": "https://localhost:8080/",
          "height": 367
        },
        "id": "KiIsKttH9w_u",
        "outputId": "9306586e-b105-4958-b817-92340c1a17de"
      },
      "id": "KiIsKttH9w_u",
      "execution_count": 48,
      "outputs": [
        {
          "output_type": "execute_result",
          "data": {
            "text/plain": [
              "Text(0.5, 1.0, 'Error vs. Training Epoch')"
            ]
          },
          "metadata": {},
          "execution_count": 48
        },
        {
          "output_type": "display_data",
          "data": {
            "text/plain": [
              "<Figure size 360x360 with 1 Axes>"
            ],
            "image/png": "[encoded data removed]"
          },
          "metadata": {
            "needs_background": "light"
          }
        }
      ]
    },
    {
      "cell_type": "code",
      "execution_count": 49,
      "id": "d82230ab",
      "metadata": {
        "id": "d82230ab"
      },
      "outputs": [],
      "source": [
        "### SPLIT DATA ###\n",
        "#X_train,X_test,y_train,y_test=train_test_split(X,y,test_size=0.2,random_state=1)\n",
        "X_train,X_test,y_train,y_test =train_test_split(X,y,test_size=0.33)"
      ]
    },
    {
      "cell_type": "code",
      "execution_count": null,
      "id": "9ded4ae4",
      "metadata": {
        "collapsed": true,
        "id": "9ded4ae4"
      },
      "outputs": [],
      "source": [
        "X_train"
      ]
    },
    {
      "cell_type": "code",
      "execution_count": null,
      "id": "e7426236",
      "metadata": {
        "collapsed": true,
        "id": "e7426236"
      },
      "outputs": [],
      "source": [
        "y_train"
      ]
    },
    {
      "cell_type": "code",
      "execution_count": null,
      "id": "fabadb0c",
      "metadata": {
        "collapsed": true,
        "id": "fabadb0c"
      },
      "outputs": [],
      "source": [
        "X_test"
      ]
    },
    {
      "cell_type": "code",
      "execution_count": null,
      "id": "c1c6384c",
      "metadata": {
        "collapsed": true,
        "id": "c1c6384c"
      },
      "outputs": [],
      "source": [
        "y_test"
      ]
    },
    {
      "cell_type": "code",
      "execution_count": null,
      "id": "ae4f7e81",
      "metadata": {
        "id": "ae4f7e81"
      },
      "outputs": [],
      "source": []
    },
    {
      "cell_type": "code",
      "execution_count": 50,
      "id": "73a2dce7",
      "metadata": {
        "colab": {
          "base_uri": "https://localhost:8080/"
        },
        "id": "73a2dce7",
        "outputId": "1d39ed60-f072-4c89-ebc2-89e9692b3d26"
      },
      "outputs": [
        {
          "output_type": "stream",
          "name": "stderr",
          "text": [
            "/usr/local/lib/python3.7/dist-packages/sklearn/utils/validation.py:598: FutureWarning: np.matrix usage is deprecated in 1.0 and will raise a TypeError in 1.2. Please convert to a numpy array with np.asarray. For more information see: https://numpy.org/doc/stable/reference/generated/numpy.matrix.html\n",
            "  FutureWarning,\n",
            "/usr/local/lib/python3.7/dist-packages/sklearn/utils/validation.py:598: FutureWarning: np.matrix usage is deprecated in 1.0 and will raise a TypeError in 1.2. Please convert to a numpy array with np.asarray. For more information see: https://numpy.org/doc/stable/reference/generated/numpy.matrix.html\n",
            "  FutureWarning,\n"
          ]
        },
        {
          "output_type": "execute_result",
          "data": {
            "text/plain": [
              "LinearRegression()"
            ]
          },
          "metadata": {},
          "execution_count": 50
        }
      ],
      "source": [
        "model=LinearRegression()\n",
        "model.fit(X_train,y_train)"
      ]
    },
    {
      "cell_type": "code",
      "execution_count": 53,
      "id": "e2e630f0",
      "metadata": {
        "colab": {
          "base_uri": "https://localhost:8080/"
        },
        "id": "e2e630f0",
        "outputId": "578c73cf-484d-4d04-adf3-722931149fa5"
      },
      "outputs": [
        {
          "output_type": "stream",
          "name": "stdout",
          "text": [
            "81.69391802258106\n"
          ]
        },
        {
          "output_type": "stream",
          "name": "stderr",
          "text": [
            "/usr/local/lib/python3.7/dist-packages/sklearn/utils/validation.py:598: FutureWarning: np.matrix usage is deprecated in 1.0 and will raise a TypeError in 1.2. Please convert to a numpy array with np.asarray. For more information see: https://numpy.org/doc/stable/reference/generated/numpy.matrix.html\n",
            "  FutureWarning,\n",
            "/usr/local/lib/python3.7/dist-packages/sklearn/utils/validation.py:598: FutureWarning: np.matrix usage is deprecated in 1.0 and will raise a TypeError in 1.2. Please convert to a numpy array with np.asarray. For more information see: https://numpy.org/doc/stable/reference/generated/numpy.matrix.html\n",
            "  FutureWarning,\n"
          ]
        }
      ],
      "source": [
        "print((model.score(X_train,y_train))*100)"
      ]
    },
    {
      "cell_type": "code",
      "execution_count": 54,
      "id": "9e7b70f9",
      "metadata": {
        "colab": {
          "base_uri": "https://localhost:8080/"
        },
        "id": "9e7b70f9",
        "outputId": "00ea4838-fe03-410a-ecbe-712c68731c17"
      },
      "outputs": [
        {
          "output_type": "stream",
          "name": "stdout",
          "text": [
            "81.95152788079339\n"
          ]
        },
        {
          "output_type": "stream",
          "name": "stderr",
          "text": [
            "/usr/local/lib/python3.7/dist-packages/sklearn/utils/validation.py:598: FutureWarning: np.matrix usage is deprecated in 1.0 and will raise a TypeError in 1.2. Please convert to a numpy array with np.asarray. For more information see: https://numpy.org/doc/stable/reference/generated/numpy.matrix.html\n",
            "  FutureWarning,\n",
            "/usr/local/lib/python3.7/dist-packages/sklearn/utils/validation.py:598: FutureWarning: np.matrix usage is deprecated in 1.0 and will raise a TypeError in 1.2. Please convert to a numpy array with np.asarray. For more information see: https://numpy.org/doc/stable/reference/generated/numpy.matrix.html\n",
            "  FutureWarning,\n"
          ]
        }
      ],
      "source": [
        "print((model.score(X_test,y_test))*100)"
      ]
    },
    {
      "cell_type": "code",
      "execution_count": 57,
      "id": "23761109",
      "metadata": {
        "collapsed": true,
        "colab": {
          "base_uri": "https://localhost:8080/"
        },
        "id": "23761109",
        "outputId": "c81c3b30-eb17-41f2-be65-19ebe8142abb"
      },
      "outputs": [
        {
          "output_type": "stream",
          "name": "stdout",
          "text": [
            "values :\n",
            "[[ 4.2415 ]\n",
            " [ 5.4974 ]\n",
            " [ 4.0259 ]\n",
            " [ 6.7981 ]\n",
            " [12.134  ]\n",
            " [-1.4211 ]\n",
            " [ 1.4233 ]\n",
            " [ 4.2885 ]\n",
            " [ 0.20421]\n",
            " [10.117  ]\n",
            " [ 6.5426 ]\n",
            " [ 7.7754 ]\n",
            " [ 2.8214 ]\n",
            " [ 0.61705]\n",
            " [ 1.8495 ]\n",
            " [ 7.2029 ]\n",
            " [ 6.6799 ]\n",
            " [ 3.3928 ]\n",
            " [12.054  ]\n",
            " [ 0.92695]\n",
            " [ 2.4756 ]\n",
            " [24.147  ]\n",
            " [ 0.67861]\n",
            " [ 1.2784 ]]\n",
            "\n",
            " predect :\n",
            "[[ 5.09862134]\n",
            " [ 2.65335241]\n",
            " [ 3.76207472]\n",
            " [ 5.84786494]\n",
            " [ 5.92471043]\n",
            " [ 2.65956785]\n",
            " [ 2.63007274]\n",
            " [ 3.86310395]\n",
            " [ 1.33680823]\n",
            " [ 9.97921448]\n",
            " [ 4.75270359]\n",
            " [ 7.04100429]\n",
            " [ 1.1910278 ]\n",
            " [ 1.61763332]\n",
            " [ 2.13170709]\n",
            " [ 2.10786238]\n",
            " [ 6.9279962 ]\n",
            " [ 1.80906901]\n",
            " [12.32074199]\n",
            " [ 2.256242  ]\n",
            " [ 2.56385001]\n",
            " [20.56468174]\n",
            " [ 2.65595159]\n",
            " [ 2.26098834]]\n"
          ]
        },
        {
          "output_type": "stream",
          "name": "stderr",
          "text": [
            "/usr/local/lib/python3.7/dist-packages/sklearn/utils/validation.py:598: FutureWarning: np.matrix usage is deprecated in 1.0 and will raise a TypeError in 1.2. Please convert to a numpy array with np.asarray. For more information see: https://numpy.org/doc/stable/reference/generated/numpy.matrix.html\n",
            "  FutureWarning,\n"
          ]
        }
      ],
      "source": [
        "y_predect=model.predict(X_test)\n",
        "print(f\"values :\\n{y_test}\\n\\n predect :\\n{y_predect}\")"
      ]
    },
    {
      "cell_type": "code",
      "execution_count": 40,
      "id": "1413dfc4",
      "metadata": {
        "colab": {
          "base_uri": "https://localhost:8080/"
        },
        "id": "1413dfc4",
        "outputId": "b1c1bea9-afd1-440a-f1c1-928ae627a607"
      },
      "outputs": [
        {
          "output_type": "execute_result",
          "data": {
            "text/plain": [
              "matrix([[ 7.7754 ],\n",
              "        [ 0.55657],\n",
              "        [ 6.7318 ],\n",
              "        [ 5.1694 ],\n",
              "        [ 1.0463 ],\n",
              "        [12.134  ],\n",
              "        [ 1.4233 ],\n",
              "        [ 5.4974 ],\n",
              "        [ 6.7504 ],\n",
              "        [ 0.152  ],\n",
              "        [ 9.0551 ],\n",
              "        [ 3.9115 ],\n",
              "        [ 5.4141 ],\n",
              "        [14.692  ],\n",
              "        [ 1.0179 ],\n",
              "        [ 4.1164 ],\n",
              "        [ 0.92695],\n",
              "        [ 2.4406 ],\n",
              "        [-0.74279],\n",
              "        [ 5.7014 ],\n",
              "        [ 2.4756 ],\n",
              "        [ 1.8451 ],\n",
              "        [ 0.61705],\n",
              "        [ 0.20421]])"
            ]
          },
          "metadata": {},
          "execution_count": 40
        }
      ],
      "source": [
        "y_test"
      ]
    },
    {
      "cell_type": "code",
      "source": [],
      "metadata": {
        "id": "Z4INHIsi-Kdm"
      },
      "id": "Z4INHIsi-Kdm",
      "execution_count": null,
      "outputs": []
    }
  ],
  "metadata": {
    "kernelspec": {
      "display_name": "Python 3 (ipykernel)",
      "language": "python",
      "name": "python3"
    },
    "language_info": {
      "codemirror_mode": {
        "name": "ipython",
        "version": 3
      },
      "file_extension": ".py",
      "mimetype": "text/x-python",
      "name": "python",
      "nbconvert_exporter": "python",
      "pygments_lexer": "ipython3",
      "version": "3.10.5"
    },
    "vscode": {
      "interpreter": {
        "hash": "0c3136af1c3cd84bf5255f4a09e2aa61169809d15abf9aeede9c0365cbba6c55"
      }
    },
    "colab": {
      "provenance": []
    }
  },
  "nbformat": 4,
  "nbformat_minor": 5
}